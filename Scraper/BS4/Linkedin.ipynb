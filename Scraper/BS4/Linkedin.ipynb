{
 "cells": [
  {
   "cell_type": "code",
   "execution_count": 1,
   "id": "e78c1957-1f30-47d2-804e-db4baec522f8",
   "metadata": {},
   "outputs": [],
   "source": [
    "from bs4 import BeautifulSoup as bs\n",
    "from selenium import webdriver\n",
    "import requests\n",
    "import streamlit as st"
   ]
  },
  {
   "cell_type": "code",
   "execution_count": 6,
   "id": "2db4bccb-852e-4a56-b2fa-2c56ce4c188e",
   "metadata": {},
   "outputs": [],
   "source": [
    "crawler = requests.get(\"https://www.linkedin.com/jobs/search/\").text"
   ]
  },
  {
   "cell_type": "code",
   "execution_count": 7,
   "id": "caa75367-b98f-4468-9f8f-44a4411a151f",
   "metadata": {},
   "outputs": [],
   "source": [
    "#soup = bs(crawler,'lxml')\n",
    "soup = bs(crawler)"
   ]
  },
  {
   "cell_type": "code",
   "execution_count": 8,
   "id": "eb914c47-d1c3-4cda-9307-9c951956411e",
   "metadata": {},
   "outputs": [],
   "source": [
    "jobs = soup.find_all('div',\"job-search-card\")"
   ]
  },
  {
   "cell_type": "code",
   "execution_count": 9,
   "id": "7fdd8438-7564-4e81-938c-c0d24dbe7f88",
   "metadata": {},
   "outputs": [
    {
     "name": "stdout",
     "output_type": "stream",
     "text": [
      "https://www.linkedin.com/jobs/view/sales-representative-at-gpac-3140607579?refId=xQUcx7OJrZEgBM0rTcUoVQ%3D%3D&trackingId=xddS12PyYVs9oXJ2s4XHbw%3D%3D&position=1&pageNum=0&trk=public_jobs_jserp-result_search-card\n",
      "https://www.linkedin.com/jobs/view/discipline-manager-instrumentation-controls-at-middough-inc-3141794291?refId=xQUcx7OJrZEgBM0rTcUoVQ%3D%3D&trackingId=7diEYfChRvq4WJHY%2FV12ew%3D%3D&position=2&pageNum=0&trk=public_jobs_jserp-result_search-card\n",
      "https://www.linkedin.com/jobs/view/vice-president-business-development-at-moody-s-corporation-3142101408?refId=xQUcx7OJrZEgBM0rTcUoVQ%3D%3D&trackingId=T%2FR0m5QnpnIuERm6oNJKGA%3D%3D&position=3&pageNum=0&trk=public_jobs_jserp-result_search-card\n",
      "https://www.linkedin.com/jobs/view/plant-controller-at-amcor-3140628042?refId=xQUcx7OJrZEgBM0rTcUoVQ%3D%3D&trackingId=INzid3oNB0WS8S1GHxMUug%3D%3D&position=4&pageNum=0&trk=public_jobs_jserp-result_search-card\n",
      "https://www.linkedin.com/jobs/view/dietary-cook-wayfarer-program-at-saber-healthcare-group-3141794902?refId=xQUcx7OJrZEgBM0rTcUoVQ%3D%3D&trackingId=avmNBvSiZxvJ0QjsHmJJ3A%3D%3D&position=5&pageNum=0&trk=public_jobs_jserp-result_search-card\n",
      "https://www.linkedin.com/jobs/view/manager-plant-at-justrite-safety-group-3142105047?refId=xQUcx7OJrZEgBM0rTcUoVQ%3D%3D&trackingId=neO5AQ4spTue%2FzkT0OLxhA%3D%3D&position=6&pageNum=0&trk=public_jobs_jserp-result_search-card\n",
      "https://www.linkedin.com/jobs/view/dietary-cook-weekend-doubles-at-cox-healthcare-ltd-3142101253?refId=xQUcx7OJrZEgBM0rTcUoVQ%3D%3D&trackingId=p4V4OBsTJ%2BAo0ELHXUMNyw%3D%3D&position=7&pageNum=0&trk=public_jobs_jserp-result_search-card\n",
      "https://www.linkedin.com/jobs/view/steel-detailer-at-gpac-3140606596?refId=xQUcx7OJrZEgBM0rTcUoVQ%3D%3D&trackingId=y5q%2BwHTHTppbvVSrDra6kg%3D%3D&position=8&pageNum=0&trk=public_jobs_jserp-result_search-card\n",
      "https://www.linkedin.com/jobs/view/steel-detailer-at-gpac-3140611030?refId=xQUcx7OJrZEgBM0rTcUoVQ%3D%3D&trackingId=ovn%2FVN0xjH1pcjNPTFpE0g%3D%3D&position=9&pageNum=0&trk=public_jobs_jserp-result_search-card\n",
      "https://www.linkedin.com/jobs/view/nutrition-services-aide-full-time-split-shift-%243-000-sign-on-bonus-at-encompass-health-3142104914?refId=xQUcx7OJrZEgBM0rTcUoVQ%3D%3D&trackingId=zgFAtfUTWNcCft1llEUfYg%3D%3D&position=10&pageNum=0&trk=public_jobs_jserp-result_search-card\n",
      "https://www.linkedin.com/jobs/view/physical-therapy-assistant-prn-at-azria-health-3141799254?refId=xQUcx7OJrZEgBM0rTcUoVQ%3D%3D&trackingId=y303YSaM7%2F3j6e51wBByNg%3D%3D&position=11&pageNum=0&trk=public_jobs_jserp-result_search-card\n",
      "https://www.linkedin.com/jobs/view/middle-market-relationship-manager-at-umpqua-bank-3141796520?refId=xQUcx7OJrZEgBM0rTcUoVQ%3D%3D&trackingId=BOLAIJESKY1F3IwuEoviAA%3D%3D&position=12&pageNum=0&trk=public_jobs_jserp-result_search-card\n",
      "https://www.linkedin.com/jobs/view/respiratory-therapist-at-saba-health-care-foundation-3142100011?refId=xQUcx7OJrZEgBM0rTcUoVQ%3D%3D&trackingId=T3YEGPQzBZqmdR4nvStdmg%3D%3D&position=13&pageNum=0&trk=public_jobs_jserp-result_search-card\n",
      "https://www.linkedin.com/jobs/view/culinary-dietary-aide-at-communicare-health-services-3142108312?refId=xQUcx7OJrZEgBM0rTcUoVQ%3D%3D&trackingId=iqI8bQAy3JprdRrH7WEt5A%3D%3D&position=14&pageNum=0&trk=public_jobs_jserp-result_search-card\n",
      "https://www.linkedin.com/jobs/view/dietary-aide-at-communicare-health-services-3142102896?refId=xQUcx7OJrZEgBM0rTcUoVQ%3D%3D&trackingId=XuvGtWF4Lqc7LtffIS1%2Bgg%3D%3D&position=15&pageNum=0&trk=public_jobs_jserp-result_search-card\n",
      "https://www.linkedin.com/jobs/view/electrical-designer-at-middough-inc-3141796102?refId=xQUcx7OJrZEgBM0rTcUoVQ%3D%3D&trackingId=vB0HcXhpGT5QB%2Bt8YOqOfg%3D%3D&position=16&pageNum=0&trk=public_jobs_jserp-result_search-card\n",
      "https://www.linkedin.com/jobs/view/staff-pediatrics-lvn-lpn-at-aya-healthcare-3142110082?refId=xQUcx7OJrZEgBM0rTcUoVQ%3D%3D&trackingId=LKHVEZzM0csHLUbh6KK0VQ%3D%3D&position=17&pageNum=0&trk=public_jobs_jserp-result_search-card\n",
      "https://www.linkedin.com/jobs/view/institutional-client-service-associate-new-york-at-allspring-global-investments-3142114044?refId=xQUcx7OJrZEgBM0rTcUoVQ%3D%3D&trackingId=pdPF1pGt13OlOlu9a4q%2FNg%3D%3D&position=18&pageNum=0&trk=public_jobs_jserp-result_search-card\n",
      "https://www.linkedin.com/jobs/view/therapeutic-sales-specialist-at-syneos-health-commercial-solutions-3141797299?refId=xQUcx7OJrZEgBM0rTcUoVQ%3D%3D&trackingId=2wkC%2BhKOfnaiC6GkwDj3zg%3D%3D&position=19&pageNum=0&trk=public_jobs_jserp-result_search-card\n",
      "https://www.linkedin.com/jobs/view/process-tech-at-job-impulse-inc-3140495459?refId=xQUcx7OJrZEgBM0rTcUoVQ%3D%3D&trackingId=hHsGuLzpI8urje17mawJvw%3D%3D&position=20&pageNum=0&trk=public_jobs_jserp-result_search-card\n",
      "https://www.linkedin.com/jobs/view/pharmacist-consultant-at-pharmerica-3142108049?refId=xQUcx7OJrZEgBM0rTcUoVQ%3D%3D&trackingId=yC87qnkrjqnaKwEnwF%2B%2FuQ%3D%3D&position=21&pageNum=0&trk=public_jobs_jserp-result_search-card\n",
      "https://www.linkedin.com/jobs/view/procurement-administrator-at-iss-facility-services-north-america-3140601371?refId=xQUcx7OJrZEgBM0rTcUoVQ%3D%3D&trackingId=TtLm4emMWcdIQlxkuF0UZA%3D%3D&position=22&pageNum=0&trk=public_jobs_jserp-result_search-card\n",
      "https://www.linkedin.com/jobs/view/occupational-therapist-rehab-jacobi-ncb-bronx-ny-full-time-at-physician-affiliate-group-of-new-york-p-c-pagny-3142114310?refId=xQUcx7OJrZEgBM0rTcUoVQ%3D%3D&trackingId=c3yB0LPFo1uWPNY70tkvKw%3D%3D&position=23&pageNum=0&trk=public_jobs_jserp-result_search-card\n",
      "https://www.linkedin.com/jobs/view/dietary-cook-at-saber-healthcare-group-3141798262?refId=xQUcx7OJrZEgBM0rTcUoVQ%3D%3D&trackingId=gWJBsNrlAXUrWK%2BDRFoocA%3D%3D&position=24&pageNum=0&trk=public_jobs_jserp-result_search-card\n",
      "https://www.linkedin.com/jobs/view/environmental-field-operations-manager-ii-at-union-pacific-railroad-3140624306?refId=xQUcx7OJrZEgBM0rTcUoVQ%3D%3D&trackingId=mvVyF6Fl6WiucdwI%2FFvmlA%3D%3D&position=25&pageNum=0&trk=public_jobs_jserp-result_search-card\n"
     ]
    }
   ],
   "source": [
    "#print(soup.prettify())\n",
    "for job in jobs:\n",
    "    #title = job.find('span',\"screen-reader-text\").text\n",
    "    print(job.find('a')['href'])"
   ]
  },
  {
   "cell_type": "code",
   "execution_count": 2,
   "id": "4fe9c2f9-1776-43a5-831d-74b89749042b",
   "metadata": {},
   "outputs": [
    {
     "ename": "WebDriverException",
     "evalue": "Message: 'chromedriver' executable needs to be in PATH. Please see https://sites.google.com/a/chromium.org/chromedriver/home\n",
     "output_type": "error",
     "traceback": [
      "\u001b[0;31m---------------------------------------------------------------------------\u001b[0m",
      "\u001b[0;31mFileNotFoundError\u001b[0m                         Traceback (most recent call last)",
      "\u001b[0;32m/opt/anaconda3/lib/python3.8/site-packages/selenium/webdriver/common/service.py\u001b[0m in \u001b[0;36mstart\u001b[0;34m(self)\u001b[0m\n\u001b[1;32m     71\u001b[0m             \u001b[0mcmd\u001b[0m\u001b[0;34m.\u001b[0m\u001b[0mextend\u001b[0m\u001b[0;34m(\u001b[0m\u001b[0mself\u001b[0m\u001b[0;34m.\u001b[0m\u001b[0mcommand_line_args\u001b[0m\u001b[0;34m(\u001b[0m\u001b[0;34m)\u001b[0m\u001b[0;34m)\u001b[0m\u001b[0;34m\u001b[0m\u001b[0;34m\u001b[0m\u001b[0m\n\u001b[0;32m---> 72\u001b[0;31m             self.process = subprocess.Popen(cmd, env=self.env,\n\u001b[0m\u001b[1;32m     73\u001b[0m                                             \u001b[0mclose_fds\u001b[0m\u001b[0;34m=\u001b[0m\u001b[0mplatform\u001b[0m\u001b[0;34m.\u001b[0m\u001b[0msystem\u001b[0m\u001b[0;34m(\u001b[0m\u001b[0;34m)\u001b[0m \u001b[0;34m!=\u001b[0m \u001b[0;34m'Windows'\u001b[0m\u001b[0;34m,\u001b[0m\u001b[0;34m\u001b[0m\u001b[0;34m\u001b[0m\u001b[0m\n",
      "\u001b[0;32m/opt/anaconda3/lib/python3.8/subprocess.py\u001b[0m in \u001b[0;36m__init__\u001b[0;34m(self, args, bufsize, executable, stdin, stdout, stderr, preexec_fn, close_fds, shell, cwd, env, universal_newlines, startupinfo, creationflags, restore_signals, start_new_session, pass_fds, encoding, errors, text)\u001b[0m\n\u001b[1;32m    857\u001b[0m \u001b[0;34m\u001b[0m\u001b[0m\n\u001b[0;32m--> 858\u001b[0;31m             self._execute_child(args, executable, preexec_fn, close_fds,\n\u001b[0m\u001b[1;32m    859\u001b[0m                                 \u001b[0mpass_fds\u001b[0m\u001b[0;34m,\u001b[0m \u001b[0mcwd\u001b[0m\u001b[0;34m,\u001b[0m \u001b[0menv\u001b[0m\u001b[0;34m,\u001b[0m\u001b[0;34m\u001b[0m\u001b[0;34m\u001b[0m\u001b[0m\n",
      "\u001b[0;32m/opt/anaconda3/lib/python3.8/subprocess.py\u001b[0m in \u001b[0;36m_execute_child\u001b[0;34m(self, args, executable, preexec_fn, close_fds, pass_fds, cwd, env, startupinfo, creationflags, shell, p2cread, p2cwrite, c2pread, c2pwrite, errread, errwrite, restore_signals, start_new_session)\u001b[0m\n\u001b[1;32m   1705\u001b[0m                         \u001b[0merr_msg\u001b[0m \u001b[0;34m=\u001b[0m \u001b[0mos\u001b[0m\u001b[0;34m.\u001b[0m\u001b[0mstrerror\u001b[0m\u001b[0;34m(\u001b[0m\u001b[0merrno_num\u001b[0m\u001b[0;34m)\u001b[0m\u001b[0;34m\u001b[0m\u001b[0;34m\u001b[0m\u001b[0m\n\u001b[0;32m-> 1706\u001b[0;31m                     \u001b[0;32mraise\u001b[0m \u001b[0mchild_exception_type\u001b[0m\u001b[0;34m(\u001b[0m\u001b[0merrno_num\u001b[0m\u001b[0;34m,\u001b[0m \u001b[0merr_msg\u001b[0m\u001b[0;34m,\u001b[0m \u001b[0merr_filename\u001b[0m\u001b[0;34m)\u001b[0m\u001b[0;34m\u001b[0m\u001b[0;34m\u001b[0m\u001b[0m\n\u001b[0m\u001b[1;32m   1707\u001b[0m                 \u001b[0;32mraise\u001b[0m \u001b[0mchild_exception_type\u001b[0m\u001b[0;34m(\u001b[0m\u001b[0merr_msg\u001b[0m\u001b[0;34m)\u001b[0m\u001b[0;34m\u001b[0m\u001b[0;34m\u001b[0m\u001b[0m\n",
      "\u001b[0;31mFileNotFoundError\u001b[0m: [Errno 2] No such file or directory: 'chromedriver'",
      "\nDuring handling of the above exception, another exception occurred:\n",
      "\u001b[0;31mWebDriverException\u001b[0m                        Traceback (most recent call last)",
      "\u001b[0;32m/var/folders/mc/61_s1n_j5r160h0ncr2369000000gn/T/ipykernel_5762/537431734.py\u001b[0m in \u001b[0;36m<module>\u001b[0;34m\u001b[0m\n\u001b[0;32m----> 1\u001b[0;31m \u001b[0mdriver\u001b[0m \u001b[0;34m=\u001b[0m \u001b[0mwebdriver\u001b[0m\u001b[0;34m.\u001b[0m\u001b[0mChrome\u001b[0m\u001b[0;34m(\u001b[0m\u001b[0;34m)\u001b[0m\u001b[0;34m\u001b[0m\u001b[0;34m\u001b[0m\u001b[0m\n\u001b[0m",
      "\u001b[0;32m/opt/anaconda3/lib/python3.8/site-packages/selenium/webdriver/chrome/webdriver.py\u001b[0m in \u001b[0;36m__init__\u001b[0;34m(self, executable_path, port, options, service_args, desired_capabilities, service_log_path, chrome_options, keep_alive)\u001b[0m\n\u001b[1;32m     71\u001b[0m             \u001b[0mservice_args\u001b[0m\u001b[0;34m=\u001b[0m\u001b[0mservice_args\u001b[0m\u001b[0;34m,\u001b[0m\u001b[0;34m\u001b[0m\u001b[0;34m\u001b[0m\u001b[0m\n\u001b[1;32m     72\u001b[0m             log_path=service_log_path)\n\u001b[0;32m---> 73\u001b[0;31m         \u001b[0mself\u001b[0m\u001b[0;34m.\u001b[0m\u001b[0mservice\u001b[0m\u001b[0;34m.\u001b[0m\u001b[0mstart\u001b[0m\u001b[0;34m(\u001b[0m\u001b[0;34m)\u001b[0m\u001b[0;34m\u001b[0m\u001b[0;34m\u001b[0m\u001b[0m\n\u001b[0m\u001b[1;32m     74\u001b[0m \u001b[0;34m\u001b[0m\u001b[0m\n\u001b[1;32m     75\u001b[0m         \u001b[0;32mtry\u001b[0m\u001b[0;34m:\u001b[0m\u001b[0;34m\u001b[0m\u001b[0;34m\u001b[0m\u001b[0m\n",
      "\u001b[0;32m/opt/anaconda3/lib/python3.8/site-packages/selenium/webdriver/common/service.py\u001b[0m in \u001b[0;36mstart\u001b[0;34m(self)\u001b[0m\n\u001b[1;32m     79\u001b[0m         \u001b[0;32mexcept\u001b[0m \u001b[0mOSError\u001b[0m \u001b[0;32mas\u001b[0m \u001b[0merr\u001b[0m\u001b[0;34m:\u001b[0m\u001b[0;34m\u001b[0m\u001b[0;34m\u001b[0m\u001b[0m\n\u001b[1;32m     80\u001b[0m             \u001b[0;32mif\u001b[0m \u001b[0merr\u001b[0m\u001b[0;34m.\u001b[0m\u001b[0merrno\u001b[0m \u001b[0;34m==\u001b[0m \u001b[0merrno\u001b[0m\u001b[0;34m.\u001b[0m\u001b[0mENOENT\u001b[0m\u001b[0;34m:\u001b[0m\u001b[0;34m\u001b[0m\u001b[0;34m\u001b[0m\u001b[0m\n\u001b[0;32m---> 81\u001b[0;31m                 raise WebDriverException(\n\u001b[0m\u001b[1;32m     82\u001b[0m                     \"'%s' executable needs to be in PATH. %s\" % (\n\u001b[1;32m     83\u001b[0m                         os.path.basename(self.path), self.start_error_message)\n",
      "\u001b[0;31mWebDriverException\u001b[0m: Message: 'chromedriver' executable needs to be in PATH. Please see https://sites.google.com/a/chromium.org/chromedriver/home\n"
     ]
    }
   ],
   "source": [
    "driver = webdriver.Chrome()"
   ]
  },
  {
   "cell_type": "code",
   "execution_count": null,
   "id": "35df3c19-98ad-4e8f-8dda-3c77520fda54",
   "metadata": {},
   "outputs": [],
   "source": []
  }
 ],
 "metadata": {
  "kernelspec": {
   "display_name": "Python 3 (ipykernel)",
   "language": "python",
   "name": "python3"
  },
  "language_info": {
   "codemirror_mode": {
    "name": "ipython",
    "version": 3
   },
   "file_extension": ".py",
   "mimetype": "text/x-python",
   "name": "python",
   "nbconvert_exporter": "python",
   "pygments_lexer": "ipython3",
   "version": "3.8.8"
  }
 },
 "nbformat": 4,
 "nbformat_minor": 5
}
